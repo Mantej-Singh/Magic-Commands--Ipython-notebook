{
 "cells": [
  {
   "cell_type": "code",
   "execution_count": 36,
   "metadata": {},
   "outputs": [],
   "source": [
    "%load_ext watermark"
   ]
  },
  {
   "cell_type": "code",
   "execution_count": 38,
   "metadata": {},
   "outputs": [
    {
     "name": "stdout",
     "output_type": "stream",
     "text": [
      "Mantej Singh \n",
      "last updated: Tue Apr 11 2017 14:59:41 Eastern Daylight Time2017-04-11T14:59:41-04:00\n",
      "\n",
      "CPython 3.5.2\n",
      "IPython 5.3.0\n",
      "\n",
      "pandas 0.19.2\n",
      "\n",
      "compiler   : MSC v.1900 32 bit (Intel)\n",
      "system     : Windows\n",
      "release    : 7\n",
      "machine    : AMD64\n",
      "processor  : Intel64 Family 6 Model 58 Stepping 9, GenuineIntel\n",
      "CPU cores  : 4\n",
      "interpreter: 32bit\n",
      "watermark 1.3.4\n"
     ]
    }
   ],
   "source": [
    "%watermark -w -v -u -n -t -z -m -p pandas --iso8601 -a \"Mantej Singh\""
   ]
  },
  {
   "cell_type": "code",
   "execution_count": 2,
   "metadata": {
    "collapsed": true
   },
   "outputs": [],
   "source": [
    "import pandas as pd"
   ]
  },
  {
   "cell_type": "code",
   "execution_count": 3,
   "metadata": {},
   "outputs": [
    {
     "name": "stdout",
     "output_type": "stream",
     "text": [
      "Wall time: 5 ms\n"
     ]
    }
   ],
   "source": [
    "%%time\n",
    "df=pd.read_csv('data/pew-raw.csv')"
   ]
  },
  {
   "cell_type": "code",
   "execution_count": 4,
   "metadata": {},
   "outputs": [
    {
     "name": "stdout",
     "output_type": "stream",
     "text": [
      "Wall time: 4 ms\n"
     ]
    }
   ],
   "source": [
    "%%time\n",
    "nwdf=pd.melt(df,id_vars=['religion'],var_name='range',value_name='counts')"
   ]
  },
  {
   "cell_type": "code",
   "execution_count": 5,
   "metadata": {},
   "outputs": [
    {
     "data": {
      "text/html": [
       "<div>\n",
       "<table border=\"1\" class=\"dataframe\">\n",
       "  <thead>\n",
       "    <tr style=\"text-align: right;\">\n",
       "      <th></th>\n",
       "      <th>religion</th>\n",
       "      <th>range</th>\n",
       "      <th>counts</th>\n",
       "    </tr>\n",
       "  </thead>\n",
       "  <tbody>\n",
       "    <tr>\n",
       "      <th>0</th>\n",
       "      <td>Agnostic</td>\n",
       "      <td>&lt;$10k</td>\n",
       "      <td>27</td>\n",
       "    </tr>\n",
       "    <tr>\n",
       "      <th>1</th>\n",
       "      <td>Atheist</td>\n",
       "      <td>&lt;$10k</td>\n",
       "      <td>12</td>\n",
       "    </tr>\n",
       "    <tr>\n",
       "      <th>2</th>\n",
       "      <td>Buddhist</td>\n",
       "      <td>&lt;$10k</td>\n",
       "      <td>27</td>\n",
       "    </tr>\n",
       "    <tr>\n",
       "      <th>3</th>\n",
       "      <td>Catholic</td>\n",
       "      <td>&lt;$10k</td>\n",
       "      <td>418</td>\n",
       "    </tr>\n",
       "  </tbody>\n",
       "</table>\n",
       "</div>"
      ],
      "text/plain": [
       "   religion   range  counts\n",
       "0  Agnostic   <$10k      27\n",
       "1   Atheist   <$10k      12\n",
       "2  Buddhist   <$10k      27\n",
       "3  Catholic   <$10k     418"
      ]
     },
     "execution_count": 5,
     "metadata": {},
     "output_type": "execute_result"
    }
   ],
   "source": [
    "nwdf[:4]"
   ]
  },
  {
   "cell_type": "code",
   "execution_count": 8,
   "metadata": {},
   "outputs": [
    {
     "data": {
      "text/html": [
       "<div>\n",
       "<table border=\"1\" class=\"dataframe\">\n",
       "  <thead>\n",
       "    <tr style=\"text-align: right;\">\n",
       "      <th></th>\n",
       "      <th>range</th>\n",
       "      <th>counts</th>\n",
       "    </tr>\n",
       "  </thead>\n",
       "  <tbody>\n",
       "    <tr>\n",
       "      <th>0</th>\n",
       "      <td>&lt;$10k</td>\n",
       "      <td>27</td>\n",
       "    </tr>\n",
       "    <tr>\n",
       "      <th>1</th>\n",
       "      <td>&lt;$10k</td>\n",
       "      <td>12</td>\n",
       "    </tr>\n",
       "    <tr>\n",
       "      <th>2</th>\n",
       "      <td>&lt;$10k</td>\n",
       "      <td>27</td>\n",
       "    </tr>\n",
       "  </tbody>\n",
       "</table>\n",
       "</div>"
      ],
      "text/plain": [
       "    range  counts\n",
       "0   <$10k      27\n",
       "1   <$10k      12\n",
       "2   <$10k      27"
      ]
     },
     "execution_count": 8,
     "metadata": {},
     "output_type": "execute_result"
    }
   ],
   "source": [
    "nwdf[['range', 'counts']][:3]"
   ]
  },
  {
   "cell_type": "code",
   "execution_count": 10,
   "metadata": {},
   "outputs": [],
   "source": [
    "#nwdf['range', 'counts'][:3] will throw error"
   ]
  },
  {
   "cell_type": "code",
   "execution_count": 11,
   "metadata": {},
   "outputs": [
    {
     "name": "stdout",
     "output_type": "stream",
     "text": [
      "Wall time: 2 ms\n"
     ]
    }
   ],
   "source": [
    "%%time\n",
    "nwdf=nwdf.sort_values(by='religion').reset_index(drop='True')"
   ]
  },
  {
   "cell_type": "code",
   "execution_count": 30,
   "metadata": {},
   "outputs": [
    {
     "name": "stdout",
     "output_type": "stream",
     "text": [
      "Wall time: 1e+03 µs\n"
     ]
    },
    {
     "data": {
      "text/html": [
       "<div>\n",
       "<table border=\"1\" class=\"dataframe\">\n",
       "  <thead>\n",
       "    <tr style=\"text-align: right;\">\n",
       "      <th></th>\n",
       "      <th>religion</th>\n",
       "      <th>range</th>\n",
       "      <th>counts</th>\n",
       "    </tr>\n",
       "  </thead>\n",
       "  <tbody>\n",
       "    <tr>\n",
       "      <th>41</th>\n",
       "      <td>Hindu</td>\n",
       "      <td>&lt;$10k</td>\n",
       "      <td>1</td>\n",
       "    </tr>\n",
       "  </tbody>\n",
       "</table>\n",
       "</div>"
      ],
      "text/plain": [
       "   religion   range  counts\n",
       "41   Hindu    <$10k       1"
      ]
     },
     "execution_count": 30,
     "metadata": {},
     "output_type": "execute_result"
    }
   ],
   "source": [
    "%%time\n",
    "nwdf.loc[nwdf.counts <5]"
   ]
  },
  {
   "cell_type": "code",
   "execution_count": 34,
   "metadata": {},
   "outputs": [
    {
     "name": "stdout",
     "output_type": "stream",
     "text": [
      "Wall time: 3 ms\n"
     ]
    },
    {
     "data": {
      "text/html": [
       "<div>\n",
       "<table border=\"1\" class=\"dataframe\">\n",
       "  <thead>\n",
       "    <tr style=\"text-align: right;\">\n",
       "      <th></th>\n",
       "      <th>religion</th>\n",
       "      <th>range</th>\n",
       "      <th>counts</th>\n",
       "    </tr>\n",
       "  </thead>\n",
       "  <tbody>\n",
       "    <tr>\n",
       "      <th>14</th>\n",
       "      <td>Buddhist</td>\n",
       "      <td>$10-20k</td>\n",
       "      <td>21</td>\n",
       "    </tr>\n",
       "    <tr>\n",
       "      <th>48</th>\n",
       "      <td>Jehovahs Witness</td>\n",
       "      <td>&lt;$10k</td>\n",
       "      <td>20</td>\n",
       "    </tr>\n",
       "    <tr>\n",
       "      <th>49</th>\n",
       "      <td>Jehovahs Witness</td>\n",
       "      <td>$30-40k</td>\n",
       "      <td>24</td>\n",
       "    </tr>\n",
       "    <tr>\n",
       "      <th>51</th>\n",
       "      <td>Jehovahs Witness</td>\n",
       "      <td>$40-50k</td>\n",
       "      <td>21</td>\n",
       "    </tr>\n",
       "    <tr>\n",
       "      <th>52</th>\n",
       "      <td>Jehovahs Witness</td>\n",
       "      <td>$20-30k</td>\n",
       "      <td>24</td>\n",
       "    </tr>\n",
       "    <tr>\n",
       "      <th>56</th>\n",
       "      <td>Jewish</td>\n",
       "      <td>$10-20k</td>\n",
       "      <td>19</td>\n",
       "    </tr>\n",
       "    <tr>\n",
       "      <th>57</th>\n",
       "      <td>Jewish</td>\n",
       "      <td>&lt;$10k</td>\n",
       "      <td>19</td>\n",
       "    </tr>\n",
       "  </tbody>\n",
       "</table>\n",
       "</div>"
      ],
      "text/plain": [
       "             religion     range  counts\n",
       "14           Buddhist   $10-20k      21\n",
       "48  Jehovahs Witness      <$10k      20\n",
       "49  Jehovahs Witness    $30-40k      24\n",
       "51  Jehovahs Witness    $40-50k      21\n",
       "52  Jehovahs Witness    $20-30k      24\n",
       "56            Jewish    $10-20k      19\n",
       "57            Jewish      <$10k      19"
      ]
     },
     "execution_count": 34,
     "metadata": {},
     "output_type": "execute_result"
    }
   ],
   "source": [
    "%%time\n",
    "nwdf[(nwdf.counts <25) & (nwdf.counts >15)]"
   ]
  },
  {
   "cell_type": "code",
   "execution_count": 35,
   "metadata": {},
   "outputs": [
    {
     "name": "stdout",
     "output_type": "stream",
     "text": [
      "Wall time: 4 ms\n"
     ]
    },
    {
     "data": {
      "text/html": [
       "<div>\n",
       "<table border=\"1\" class=\"dataframe\">\n",
       "  <thead>\n",
       "    <tr style=\"text-align: right;\">\n",
       "      <th></th>\n",
       "      <th>religion</th>\n",
       "      <th>range</th>\n",
       "      <th>counts</th>\n",
       "    </tr>\n",
       "  </thead>\n",
       "  <tbody>\n",
       "    <tr>\n",
       "      <th>14</th>\n",
       "      <td>Buddhist</td>\n",
       "      <td>$10-20k</td>\n",
       "      <td>21</td>\n",
       "    </tr>\n",
       "    <tr>\n",
       "      <th>48</th>\n",
       "      <td>Jehovahs Witness</td>\n",
       "      <td>&lt;$10k</td>\n",
       "      <td>20</td>\n",
       "    </tr>\n",
       "    <tr>\n",
       "      <th>49</th>\n",
       "      <td>Jehovahs Witness</td>\n",
       "      <td>$30-40k</td>\n",
       "      <td>24</td>\n",
       "    </tr>\n",
       "    <tr>\n",
       "      <th>51</th>\n",
       "      <td>Jehovahs Witness</td>\n",
       "      <td>$40-50k</td>\n",
       "      <td>21</td>\n",
       "    </tr>\n",
       "    <tr>\n",
       "      <th>52</th>\n",
       "      <td>Jehovahs Witness</td>\n",
       "      <td>$20-30k</td>\n",
       "      <td>24</td>\n",
       "    </tr>\n",
       "    <tr>\n",
       "      <th>56</th>\n",
       "      <td>Jewish</td>\n",
       "      <td>$10-20k</td>\n",
       "      <td>19</td>\n",
       "    </tr>\n",
       "    <tr>\n",
       "      <th>57</th>\n",
       "      <td>Jewish</td>\n",
       "      <td>&lt;$10k</td>\n",
       "      <td>19</td>\n",
       "    </tr>\n",
       "  </tbody>\n",
       "</table>\n",
       "</div>"
      ],
      "text/plain": [
       "             religion     range  counts\n",
       "14           Buddhist   $10-20k      21\n",
       "48  Jehovahs Witness      <$10k      20\n",
       "49  Jehovahs Witness    $30-40k      24\n",
       "51  Jehovahs Witness    $40-50k      21\n",
       "52  Jehovahs Witness    $20-30k      24\n",
       "56            Jewish    $10-20k      19\n",
       "57            Jewish      <$10k      19"
      ]
     },
     "execution_count": 35,
     "metadata": {},
     "output_type": "execute_result"
    }
   ],
   "source": [
    "%%time\n",
    "nwdf.loc[(nwdf.counts <25) & (nwdf.counts >15)]"
   ]
  },
  {
   "cell_type": "code",
   "execution_count": 27,
   "metadata": {},
   "outputs": [
    {
     "ename": "ImportError",
     "evalue": "No module named 'scipy'",
     "output_type": "error",
     "traceback": [
      "\u001b[1;31m---------------------------------------------------------------------------\u001b[0m",
      "\u001b[1;31mImportError\u001b[0m                               Traceback (most recent call last)",
      "\u001b[1;32m<ipython-input-27-b0bf73eec5e6>\u001b[0m in \u001b[0;36m<module>\u001b[1;34m()\u001b[0m\n\u001b[1;32m----> 1\u001b[1;33m \u001b[1;32mimport\u001b[0m \u001b[0mseaborn\u001b[0m \u001b[1;32mas\u001b[0m \u001b[0mss\u001b[0m\u001b[1;33m\u001b[0m\u001b[0m\n\u001b[0m",
      "\u001b[1;32mc:\\python35\\lib\\site-packages\\seaborn\\__init__.py\u001b[0m in \u001b[0;36m<module>\u001b[1;34m()\u001b[0m\n\u001b[0;32m      4\u001b[0m \u001b[1;33m\u001b[0m\u001b[0m\n\u001b[0;32m      5\u001b[0m \u001b[1;31m# Import seaborn objects\u001b[0m\u001b[1;33m\u001b[0m\u001b[1;33m\u001b[0m\u001b[0m\n\u001b[1;32m----> 6\u001b[1;33m \u001b[1;32mfrom\u001b[0m \u001b[1;33m.\u001b[0m\u001b[0mrcmod\u001b[0m \u001b[1;32mimport\u001b[0m \u001b[1;33m*\u001b[0m\u001b[1;33m\u001b[0m\u001b[0m\n\u001b[0m\u001b[0;32m      7\u001b[0m \u001b[1;32mfrom\u001b[0m \u001b[1;33m.\u001b[0m\u001b[0mutils\u001b[0m \u001b[1;32mimport\u001b[0m \u001b[1;33m*\u001b[0m\u001b[1;33m\u001b[0m\u001b[0m\n\u001b[0;32m      8\u001b[0m \u001b[1;32mfrom\u001b[0m \u001b[1;33m.\u001b[0m\u001b[0mpalettes\u001b[0m \u001b[1;32mimport\u001b[0m \u001b[1;33m*\u001b[0m\u001b[1;33m\u001b[0m\u001b[0m\n",
      "\u001b[1;32mc:\\python35\\lib\\site-packages\\seaborn\\rcmod.py\u001b[0m in \u001b[0;36m<module>\u001b[1;34m()\u001b[0m\n\u001b[0;32m      6\u001b[0m \u001b[1;32mimport\u001b[0m \u001b[0mmatplotlib\u001b[0m \u001b[1;32mas\u001b[0m \u001b[0mmpl\u001b[0m\u001b[1;33m\u001b[0m\u001b[0m\n\u001b[0;32m      7\u001b[0m \u001b[1;33m\u001b[0m\u001b[0m\n\u001b[1;32m----> 8\u001b[1;33m \u001b[1;32mfrom\u001b[0m \u001b[1;33m.\u001b[0m \u001b[1;32mimport\u001b[0m \u001b[0mpalettes\u001b[0m\u001b[1;33m,\u001b[0m \u001b[0m_orig_rc_params\u001b[0m\u001b[1;33m\u001b[0m\u001b[0m\n\u001b[0m\u001b[0;32m      9\u001b[0m \u001b[1;33m\u001b[0m\u001b[0m\n\u001b[0;32m     10\u001b[0m \u001b[1;33m\u001b[0m\u001b[0m\n",
      "\u001b[1;32mc:\\python35\\lib\\site-packages\\seaborn\\palettes.py\u001b[0m in \u001b[0;36m<module>\u001b[1;34m()\u001b[0m\n\u001b[0;32m     10\u001b[0m \u001b[1;32mfrom\u001b[0m \u001b[1;33m.\u001b[0m\u001b[0mexternal\u001b[0m\u001b[1;33m.\u001b[0m\u001b[0msix\u001b[0m\u001b[1;33m.\u001b[0m\u001b[0mmoves\u001b[0m \u001b[1;32mimport\u001b[0m \u001b[0mrange\u001b[0m\u001b[1;33m\u001b[0m\u001b[0m\n\u001b[0;32m     11\u001b[0m \u001b[1;33m\u001b[0m\u001b[0m\n\u001b[1;32m---> 12\u001b[1;33m \u001b[1;32mfrom\u001b[0m \u001b[1;33m.\u001b[0m\u001b[0mutils\u001b[0m \u001b[1;32mimport\u001b[0m \u001b[0mdesaturate\u001b[0m\u001b[1;33m,\u001b[0m \u001b[0mset_hls_values\u001b[0m\u001b[1;33m,\u001b[0m \u001b[0mget_color_cycle\u001b[0m\u001b[1;33m\u001b[0m\u001b[0m\n\u001b[0m\u001b[0;32m     13\u001b[0m \u001b[1;32mfrom\u001b[0m \u001b[1;33m.\u001b[0m\u001b[0mxkcd_rgb\u001b[0m \u001b[1;32mimport\u001b[0m \u001b[0mxkcd_rgb\u001b[0m\u001b[1;33m\u001b[0m\u001b[0m\n\u001b[0;32m     14\u001b[0m \u001b[1;32mfrom\u001b[0m \u001b[1;33m.\u001b[0m\u001b[0mcrayons\u001b[0m \u001b[1;32mimport\u001b[0m \u001b[0mcrayons\u001b[0m\u001b[1;33m\u001b[0m\u001b[0m\n",
      "\u001b[1;32mc:\\python35\\lib\\site-packages\\seaborn\\utils.py\u001b[0m in \u001b[0;36m<module>\u001b[1;34m()\u001b[0m\n\u001b[0;32m      6\u001b[0m \u001b[1;33m\u001b[0m\u001b[0m\n\u001b[0;32m      7\u001b[0m \u001b[1;32mimport\u001b[0m \u001b[0mnumpy\u001b[0m \u001b[1;32mas\u001b[0m \u001b[0mnp\u001b[0m\u001b[1;33m\u001b[0m\u001b[0m\n\u001b[1;32m----> 8\u001b[1;33m \u001b[1;32mfrom\u001b[0m \u001b[0mscipy\u001b[0m \u001b[1;32mimport\u001b[0m \u001b[0mstats\u001b[0m\u001b[1;33m\u001b[0m\u001b[0m\n\u001b[0m\u001b[0;32m      9\u001b[0m \u001b[1;32mimport\u001b[0m \u001b[0mpandas\u001b[0m \u001b[1;32mas\u001b[0m \u001b[0mpd\u001b[0m\u001b[1;33m\u001b[0m\u001b[0m\n\u001b[0;32m     10\u001b[0m \u001b[1;32mimport\u001b[0m \u001b[0mmatplotlib\u001b[0m \u001b[1;32mas\u001b[0m \u001b[0mmpl\u001b[0m\u001b[1;33m\u001b[0m\u001b[0m\n",
      "\u001b[1;31mImportError\u001b[0m: No module named 'scipy'"
     ]
    }
   ],
   "source": [
    "import seaborn as ss"
   ]
  },
  {
   "cell_type": "code",
   "execution_count": 14,
   "metadata": {},
   "outputs": [
    {
     "name": "stdout",
     "output_type": "stream",
     "text": [
      "Microsoft Windows [Version 6.1.7601]\r\n",
      "Copyright (c) 2009 Microsoft Corporation.  All rights reserved.\r\n",
      "\r\n",
      "C:\\Users\\Jarvis>pip install seaborn\n",
      "Collecting seaborn\r\n",
      "  Using cached seaborn-0.7.1.tar.gz\r\n",
      "Requirement already satisfied: scipy in c:\\python35\\lib\\site-packages (from seaborn)\r\n",
      "Installing collected packages: seaborn\r\n",
      "  Running setup.py install for seaborn: started\r\n",
      "    Running setup.py install for seaborn: finished with status 'done'\r\n",
      "Successfully installed seaborn-0.7.1\r\n",
      "\r\n",
      "C:\\Users\\Jarvis>"
     ]
    }
   ],
   "source": [
    "%%cmd\n",
    "pip install seaborn"
   ]
  },
  {
   "cell_type": "code",
   "execution_count": 22,
   "metadata": {
    "scrolled": true
   },
   "outputs": [
    {
     "data": {
      "application/json": {
       "cell": {
        "!": "OSMagics",
        "HTML": "Other",
        "SVG": "Other",
        "bash": "Other",
        "capture": "ExecutionMagics",
        "cmd": "Other",
        "debug": "ExecutionMagics",
        "file": "Other",
        "html": "DisplayMagics",
        "javascript": "DisplayMagics",
        "js": "DisplayMagics",
        "latex": "DisplayMagics",
        "perl": "Other",
        "prun": "ExecutionMagics",
        "pypy": "Other",
        "python": "Other",
        "python2": "Other",
        "python3": "Other",
        "ruby": "Other",
        "script": "ScriptMagics",
        "sh": "Other",
        "svg": "DisplayMagics",
        "sx": "OSMagics",
        "system": "OSMagics",
        "time": "ExecutionMagics",
        "timeit": "ExecutionMagics",
        "writefile": "OSMagics"
       },
       "line": {
        "alias": "OSMagics",
        "alias_magic": "BasicMagics",
        "autocall": "AutoMagics",
        "automagic": "AutoMagics",
        "autosave": "KernelMagics",
        "bookmark": "OSMagics",
        "cd": "OSMagics",
        "clear": "KernelMagics",
        "cls": "KernelMagics",
        "colors": "BasicMagics",
        "config": "ConfigMagics",
        "connect_info": "KernelMagics",
        "copy": "Other",
        "ddir": "Other",
        "debug": "ExecutionMagics",
        "dhist": "OSMagics",
        "dirs": "OSMagics",
        "doctest_mode": "BasicMagics",
        "echo": "Other",
        "ed": "Other",
        "edit": "KernelMagics",
        "env": "OSMagics",
        "gui": "BasicMagics",
        "hist": "Other",
        "history": "HistoryMagics",
        "killbgscripts": "ScriptMagics",
        "ldir": "Other",
        "less": "KernelMagics",
        "load": "CodeMagics",
        "load_ext": "ExtensionMagics",
        "loadpy": "CodeMagics",
        "logoff": "LoggingMagics",
        "logon": "LoggingMagics",
        "logstart": "LoggingMagics",
        "logstate": "LoggingMagics",
        "logstop": "LoggingMagics",
        "ls": "Other",
        "lsmagic": "BasicMagics",
        "macro": "ExecutionMagics",
        "magic": "BasicMagics",
        "matplotlib": "PylabMagics",
        "mkdir": "Other",
        "more": "KernelMagics",
        "notebook": "BasicMagics",
        "page": "BasicMagics",
        "pastebin": "CodeMagics",
        "pdb": "ExecutionMagics",
        "pdef": "NamespaceMagics",
        "pdoc": "NamespaceMagics",
        "pfile": "NamespaceMagics",
        "pinfo": "NamespaceMagics",
        "pinfo2": "NamespaceMagics",
        "popd": "OSMagics",
        "pprint": "BasicMagics",
        "precision": "BasicMagics",
        "profile": "BasicMagics",
        "prun": "ExecutionMagics",
        "psearch": "NamespaceMagics",
        "psource": "NamespaceMagics",
        "pushd": "OSMagics",
        "pwd": "OSMagics",
        "pycat": "OSMagics",
        "pylab": "PylabMagics",
        "qtconsole": "KernelMagics",
        "quickref": "BasicMagics",
        "recall": "HistoryMagics",
        "rehashx": "OSMagics",
        "reload_ext": "ExtensionMagics",
        "ren": "Other",
        "rep": "Other",
        "rerun": "HistoryMagics",
        "reset": "NamespaceMagics",
        "reset_selective": "NamespaceMagics",
        "rmdir": "Other",
        "run": "ExecutionMagics",
        "save": "CodeMagics",
        "sc": "OSMagics",
        "set_env": "OSMagics",
        "store": "StoreMagics",
        "sx": "OSMagics",
        "system": "OSMagics",
        "tb": "ExecutionMagics",
        "time": "ExecutionMagics",
        "timeit": "ExecutionMagics",
        "unalias": "OSMagics",
        "unload_ext": "ExtensionMagics",
        "watermark": "WaterMark",
        "who": "NamespaceMagics",
        "who_ls": "NamespaceMagics",
        "whos": "NamespaceMagics",
        "xdel": "NamespaceMagics",
        "xmode": "BasicMagics"
       }
      },
      "text/plain": [
       "Available line magics:\n",
       "%alias  %alias_magic  %autocall  %automagic  %autosave  %bookmark  %cd  %clear  %cls  %colors  %config  %connect_info  %copy  %ddir  %debug  %dhist  %dirs  %doctest_mode  %echo  %ed  %edit  %env  %gui  %hist  %history  %killbgscripts  %ldir  %less  %load  %load_ext  %loadpy  %logoff  %logon  %logstart  %logstate  %logstop  %ls  %lsmagic  %macro  %magic  %matplotlib  %mkdir  %more  %notebook  %page  %pastebin  %pdb  %pdef  %pdoc  %pfile  %pinfo  %pinfo2  %popd  %pprint  %precision  %profile  %prun  %psearch  %psource  %pushd  %pwd  %pycat  %pylab  %qtconsole  %quickref  %recall  %rehashx  %reload_ext  %ren  %rep  %rerun  %reset  %reset_selective  %rmdir  %run  %save  %sc  %set_env  %store  %sx  %system  %tb  %time  %timeit  %unalias  %unload_ext  %watermark  %who  %who_ls  %whos  %xdel  %xmode\n",
       "\n",
       "Available cell magics:\n",
       "%%!  %%HTML  %%SVG  %%bash  %%capture  %%cmd  %%debug  %%file  %%html  %%javascript  %%js  %%latex  %%perl  %%prun  %%pypy  %%python  %%python2  %%python3  %%ruby  %%script  %%sh  %%svg  %%sx  %%system  %%time  %%timeit  %%writefile\n",
       "\n",
       "Automagic is ON, % prefix IS NOT needed for line magics."
      ]
     },
     "execution_count": 22,
     "metadata": {},
     "output_type": "execute_result"
    }
   ],
   "source": [
    "%lsmagic"
   ]
  },
  {
   "cell_type": "code",
   "execution_count": 39,
   "metadata": {},
   "outputs": [
    {
     "name": "stderr",
     "output_type": "stream",
     "text": [
      "UsageError: %%time is a cell magic, but the cell body is empty. Did you mean the line magic %time (single %)?\n"
     ]
    }
   ],
   "source": [
    "%%time "
   ]
  },
  {
   "cell_type": "markdown",
   "metadata": {},
   "source": [
    "# BEST"
   ]
  },
  {
   "cell_type": "code",
   "execution_count": 45,
   "metadata": {},
   "outputs": [
    {
     "name": "stdout",
     "output_type": "stream",
     "text": [
      "10 loops, best of 3: 16.1 ms per loop\n"
     ]
    }
   ],
   "source": [
    "%%timeit\n",
    "\n",
    "df = pd.read_csv(\"data/billboard.csv\", encoding=\"mac_latin2\")\n",
    "df.head(10)"
   ]
  },
  {
   "cell_type": "code",
   "execution_count": 35,
   "metadata": {},
   "outputs": [
    {
     "name": "stdout",
     "output_type": "stream",
     "text": [
      "%load_ext watermark\n",
      "%watermark\n",
      "import pandas as pd\n",
      "df=pd.read_csv('data/pew-raw.csv')\n",
      "dfz\n",
      "df\n",
      "%watermark\n",
      "nwdf=pd.melt(df,id_vars=['religion'],value_name='Range',value_vars='Counts')\n",
      "nwdf\n",
      "nwdf=pd.melt(df,id_vars=['religion'],var_name='range',value_name='counts')\n",
      "nwdf\n",
      "nwdf[:4]\n",
      "nwdf=nwdf.sort_values(by=1)\n",
      "nwdf=nwdf.sort_values(by='1')\n",
      "nwdf=nwdf.sort_values(by='religion')\n",
      "nwdf[:4]\n",
      "nwdf=nwdf.sort_values(by='religion').reset_index(drop='True')\n",
      "nwdf[:4]\n",
      "import seqaborn\n",
      "import seaborn\n",
      "%%bash\n",
      "pip install seaborn\n",
      "%lsmagic\n",
      "%who\n",
      "%whos\n",
      "%who_ls\n",
      "%system\n",
      "%whos\n",
      "%more\n",
      "%notebook\n",
      "%notebook  \"Apple Data Stock - Time Series Plot.ipynb\"\n",
      "%%cmd\n",
      "pip install seaborn\n",
      "%%cmd\n",
      "%%cmd\n",
      "pip install ipyvolume\n",
      "%ls\n",
      "%history\n"
     ]
    }
   ],
   "source": [
    "%history"
   ]
  },
  {
   "cell_type": "markdown",
   "metadata": {},
   "source": [
    "# Best 2"
   ]
  },
  {
   "cell_type": "code",
   "execution_count": 27,
   "metadata": {},
   "outputs": [
    {
     "name": "stdout",
     "output_type": "stream",
     "text": [
      "Variable   Type         Data/Info\n",
      "---------------------------------\n",
      "df         DataFrame                       religi<...>       30  \\n9       95  \n",
      "nwdf       DataFrame                        relig<...>Jewish    $50-75k      95\n",
      "pd         module       <module 'pandas' from 'c:<...>es\\\\pandas\\\\__init__.py'>\n"
     ]
    }
   ],
   "source": [
    "%whos"
   ]
  },
  {
   "cell_type": "code",
   "execution_count": 26,
   "metadata": {},
   "outputs": [
    {
     "data": {
      "text/plain": [
       "[]"
      ]
     },
     "execution_count": 26,
     "metadata": {},
     "output_type": "execute_result"
    }
   ],
   "source": [
    "%system"
   ]
  },
  {
   "cell_type": "code",
   "execution_count": 30,
   "metadata": {
    "collapsed": true
   },
   "outputs": [],
   "source": [
    "%notebook"
   ]
  },
  {
   "cell_type": "code",
   "execution_count": 33,
   "metadata": {},
   "outputs": [
    {
     "name": "stdout",
     "output_type": "stream",
     "text": [
      "Microsoft Windows [Version 6.1.7601]\r\n",
      "Copyright (c) 2009 Microsoft Corporation.  All rights reserved.\r\n",
      "\r\n",
      "C:\\Users\\Jarvis>pip install ipyvolume\n",
      "Collecting ipyvolume\r\n",
      "  Downloading ipyvolume-0.3.2.tar.gz (2.6MB)\r\n",
      "Requirement already satisfied: ipywidgets>=6.0.0b5 in c:\\python35\\lib\\site-packages (from ipyvolume)\r\n",
      "Requirement already satisfied: numpy in c:\\python35\\lib\\site-packages (from ipyvolume)\r\n",
      "Requirement already satisfied: traittypes in c:\\python35\\lib\\site-packages (from ipyvolume)\r\n",
      "Requirement already satisfied: traitlets in c:\\python35\\lib\\site-packages (from ipyvolume)\r\n",
      "Requirement already satisfied: Pillow in c:\\python35\\lib\\site-packages (from ipyvolume)\r\n",
      "Requirement already satisfied: ipython>=4.0.0 in c:\\python35\\lib\\site-packages (from ipywidgets>=6.0.0b5->ipyvolume)\r\n",
      "Requirement already satisfied: ipykernel>=4.5.1 in c:\\python35\\lib\\site-packages (from ipywidgets>=6.0.0b5->ipyvolume)\r\n",
      "Requirement already satisfied: widgetsnbextension~=2.0.0 in c:\\python35\\lib\\site-packages (from ipywidgets>=6.0.0b5->ipyvolume)\r\n",
      "Requirement already satisfied: nbformat>=4.2.0 in c:\\python35\\lib\\site-packages (from ipywidgets>=6.0.0b5->ipyvolume)\r\n",
      "Requirement already satisfied: pandas in c:\\python35\\lib\\site-packages (from traittypes->ipyvolume)\r\n",
      "Requirement already satisfied: decorator in c:\\python35\\lib\\site-packages (from traitlets->ipyvolume)\r\n",
      "Requirement already satisfied: six in c:\\python35\\lib\\site-packages (from traitlets->ipyvolume)\r\n",
      "Requirement already satisfied: ipython-genutils in c:\\python35\\lib\\site-packages (from traitlets->ipyvolume)\r\n",
      "Requirement already satisfied: olefile in c:\\python35\\lib\\site-packages (from Pillow->ipyvolume)\r\n",
      "Requirement already satisfied: win-unicode-console>=0.5; sys_platform == \"win32\" and python_version < \"3.6\" in c:\\python35\\lib\\site-packages (from ipython>=4.0.0->ipywidgets>=6.0.0b5->ipyvolume)\r\n",
      "Requirement already satisfied: colorama; sys_platform == \"win32\" in c:\\python35\\lib\\site-packages (from ipython>=4.0.0->ipywidgets>=6.0.0b5->ipyvolume)\r\n",
      "Requirement already satisfied: pygments in c:\\python35\\lib\\site-packages (from ipython>=4.0.0->ipywidgets>=6.0.0b5->ipyvolume)\r\n",
      "Requirement already satisfied: pickleshare in c:\\python35\\lib\\site-packages (from ipython>=4.0.0->ipywidgets>=6.0.0b5->ipyvolume)\r\n",
      "Requirement already satisfied: prompt-toolkit<2.0.0,>=1.0.4 in c:\\python35\\lib\\site-packages (from ipython>=4.0.0->ipywidgets>=6.0.0b5->ipyvolume)\r\n",
      "Requirement already satisfied: setuptools>=18.5 in c:\\python35\\lib\\site-packages (from ipython>=4.0.0->ipywidgets>=6.0.0b5->ipyvolume)\r\n",
      "Requirement already satisfied: simplegeneric>0.8 in c:\\python35\\lib\\site-packages (from ipython>=4.0.0->ipywidgets>=6.0.0b5->ipyvolume)\r\n",
      "Requirement already satisfied: jupyter-client in c:\\python35\\lib\\site-packages (from ipykernel>=4.5.1->ipywidgets>=6.0.0b5->ipyvolume)\r\n",
      "Requirement already satisfied: tornado>=4.0 in c:\\python35\\lib\\site-packages (from ipykernel>=4.5.1->ipywidgets>=6.0.0b5->ipyvolume)\r\n",
      "Requirement already satisfied: notebook>=4.4.1 in c:\\python35\\lib\\site-packages (from widgetsnbextension~=2.0.0->ipywidgets>=6.0.0b5->ipyvolume)\r\n",
      "Requirement already satisfied: jupyter-core in c:\\python35\\lib\\site-packages (from nbformat>=4.2.0->ipywidgets>=6.0.0b5->ipyvolume)\r\n",
      "Requirement already satisfied: jsonschema!=2.5.0,>=2.4 in c:\\python35\\lib\\site-packages (from nbformat>=4.2.0->ipywidgets>=6.0.0b5->ipyvolume)\r\n",
      "Requirement already satisfied: pytz>=2011k in c:\\python35\\lib\\site-packages (from pandas->traittypes->ipyvolume)\r\n",
      "Requirement already satisfied: python-dateutil>=2 in c:\\python35\\lib\\site-packages (from pandas->traittypes->ipyvolume)\r\n",
      "Requirement already satisfied: wcwidth in c:\\python35\\lib\\site-packages (from prompt-toolkit<2.0.0,>=1.0.4->ipython>=4.0.0->ipywidgets>=6.0.0b5->ipyvolume)\r\n",
      "Requirement already satisfied: appdirs>=1.4.0 in c:\\python35\\lib\\site-packages (from setuptools>=18.5->ipython>=4.0.0->ipywidgets>=6.0.0b5->ipyvolume)\r\n",
      "Requirement already satisfied: packaging>=16.8 in c:\\python35\\lib\\site-packages (from setuptools>=18.5->ipython>=4.0.0->ipywidgets>=6.0.0b5->ipyvolume)\r\n",
      "Requirement already satisfied: pyzmq>=13 in c:\\python35\\lib\\site-packages (from jupyter-client->ipykernel>=4.5.1->ipywidgets>=6.0.0b5->ipyvolume)\r\n",
      "Requirement already satisfied: jinja2 in c:\\python35\\lib\\site-packages (from notebook>=4.4.1->widgetsnbextension~=2.0.0->ipywidgets>=6.0.0b5->ipyvolume)\r\n",
      "Requirement already satisfied: nbconvert in c:\\python35\\lib\\site-packages (from notebook>=4.4.1->widgetsnbextension~=2.0.0->ipywidgets>=6.0.0b5->ipyvolume)\r\n",
      "Requirement already satisfied: pyparsing in c:\\python35\\lib\\site-packages (from packaging>=16.8->setuptools>=18.5->ipython>=4.0.0->ipywidgets>=6.0.0b5->ipyvolume)\r\n",
      "Requirement already satisfied: MarkupSafe>=0.23 in c:\\python35\\lib\\site-packages (from jinja2->notebook>=4.4.1->widgetsnbextension~=2.0.0->ipywidgets>=6.0.0b5->ipyvolume)\r\n",
      "Requirement already satisfied: pandocfilters>=1.4.1 in c:\\python35\\lib\\site-packages (from nbconvert->notebook>=4.4.1->widgetsnbextension~=2.0.0->ipywidgets>=6.0.0b5->ipyvolume)\r\n",
      "Requirement already satisfied: testpath in c:\\python35\\lib\\site-packages (from nbconvert->notebook>=4.4.1->widgetsnbextension~=2.0.0->ipywidgets>=6.0.0b5->ipyvolume)\r\n",
      "Requirement already satisfied: entrypoints>=0.2.2 in c:\\python35\\lib\\site-packages (from nbconvert->notebook>=4.4.1->widgetsnbextension~=2.0.0->ipywidgets>=6.0.0b5->ipyvolume)\r\n",
      "Requirement already satisfied: mistune!=0.6 in c:\\python35\\lib\\site-packages (from nbconvert->notebook>=4.4.1->widgetsnbextension~=2.0.0->ipywidgets>=6.0.0b5->ipyvolume)\r\n",
      "Requirement already satisfied: bleach in c:\\python35\\lib\\site-packages (from nbconvert->notebook>=4.4.1->widgetsnbextension~=2.0.0->ipywidgets>=6.0.0b5->ipyvolume)\r\n",
      "Requirement already satisfied: html5lib>=0.99999999 in c:\\python35\\lib\\site-packages (from bleach->nbconvert->notebook>=4.4.1->widgetsnbextension~=2.0.0->ipywidgets>=6.0.0b5->ipyvolume)\r\n",
      "Requirement already satisfied: webencodings in c:\\python35\\lib\\site-packages (from html5lib>=0.99999999->bleach->nbconvert->notebook>=4.4.1->widgetsnbextension~=2.0.0->ipywidgets>=6.0.0b5->ipyvolume)\r\n",
      "Installing collected packages: ipyvolume\r\n",
      "  Running setup.py install for ipyvolume: started\r\n",
      "    Running setup.py install for ipyvolume: finished with status 'done'\r\n",
      "Successfully installed ipyvolume-0.3.2\r\n",
      "\r\n",
      "C:\\Users\\Jarvis>"
     ]
    }
   ],
   "source": [
    "%%cmd\n",
    "pip install ipyvolume"
   ]
  },
  {
   "cell_type": "code",
   "execution_count": 34,
   "metadata": {},
   "outputs": [
    {
     "name": "stdout",
     "output_type": "stream",
     "text": [
      " Volume in drive C is See Drive\n",
      " Volume Serial Number is 0ECB-EDCC\n",
      "\n",
      " Directory of C:\\Users\\Jarvis\n",
      "\n",
      "04-11, Apr 11, 2017  11:13 AM    <DIR>          .\n",
      "04-11, Apr 11, 2017  11:13 AM    <DIR>          ..\n",
      "01-06, Jan 06, 2017  12:07 PM    <DIR>          .anaconda\n",
      "09-14, Sep 14, 2016  06:31 PM    <DIR>          .android\n",
      "03-01, Mar 01, 2017  07:01 PM    <DIR>          .bokeh\n",
      "01-03, Jan 03, 2017  12:11 PM    <DIR>          .config\n",
      "03-09, Mar 09, 2017  11:09 AM             2,571 .enstaller4rc\n",
      "11-24, Nov 24, 2016  01:55 PM    <DIR>          .gimp-2.8\n",
      "01-03, Jan 03, 2017  12:11 PM    <DIR>          .heroku\n",
      "10-07, Oct 07, 2016  08:12 AM    <DIR>          .idlerc\n",
      "04-11, Apr 11, 2017  10:57 AM    <DIR>          .ipynb_checkpoints\n",
      "10-12, Oct 12, 2016  10:04 AM    <DIR>          .ipython\n",
      "11-16, Nov 16, 2016  08:00 PM    <DIR>          .jupyter\n",
      "04-11, Apr 11, 2017  10:56 AM    <DIR>          .matplotlib\n",
      "01-09, Jan 09, 2017  09:46 PM    <DIR>          .oracle_jre_usage\n",
      "04-10, Apr 10, 2017  04:22 PM    <DIR>          .plotly\n",
      "10-12, Oct 12, 2016  09:05 AM    <DIR>          .PyCharm2016.2\n",
      "01-06, Jan 06, 2017  12:13 PM    <DIR>          .spyder-py3\n",
      "04-01, Apr 01, 2017  07:47 PM    <DIR>          .thumbnails\n",
      "01-06, Jan 06, 2017  12:34 PM    <DIR>          .vscode\n",
      "01-03, Jan 03, 2017  12:12 PM               206 _netrc\n",
      "01-31, Jan 31, 2017  07:28 PM         1,554,648 All Earthquakes.csv\n",
      "12-29, Dec 29, 2016  01:22 PM            14,087 all_tables.csv\n",
      "12-29, Dec 29, 2016  01:27 PM            14,085 all_tables.txt\n",
      "01-04, Jan 04, 2017  06:07 PM             9,983 Allpages.csv\n",
      "01-04, Jan 04, 2017  06:24 PM            99,111 allpages.txt\n",
      "04-11, Apr 11, 2017  11:11 AM             4,448 Apple Data Stock - Time Series Plot.ipynb\n",
      "01-10, Jan 10, 2017  01:02 PM             3,137 Applestockdata.csv\n",
      "05-17, May 17, 2015  11:18 AM           150,512 ARegular.ttf\n",
      "01-14, Jan 14, 2016  10:38 AM            47,796 Ayuma2yk.ttf\n",
      "03-01, Mar 01, 2017  06:17 PM            13,322 bar.html\n",
      "01-02, Jan 02, 2017  07:43 PM                75 birthdata.txt\n",
      "02-06, Feb 06, 2017  12:59 PM            18,099 Borrow Amount.xlsx\n",
      "11-16, Nov 16, 2016  08:00 PM    <DIR>          Canopy\n",
      "03-03, Mar 03, 2017  01:01 PM             3,061 Clipboard.ipynb\n",
      "03-03, Mar 03, 2017  12:52 PM               883 clipon.ipynb\n",
      "10-13, Oct 13, 2016  07:29 AM    <DIR>          Contacts\n",
      "02-23, Feb 23, 2017  05:26 PM             3,575 Create your own Data Structure.ipynb\n",
      "11-24, Nov 24, 2016  10:30 AM    <DIR>          Creative Cloud Files\n",
      "12-29, Dec 29, 2016  05:52 PM             1,125 Current temp.csv\n",
      "12-29, Dec 29, 2016  05:51 PM               247 Current temp.txt\n",
      "04-04, Apr 04, 2017  12:40 PM    <DIR>          data\n",
      "10-13, Oct 13, 2016  08:58 AM                63 demo.csv\n",
      "02-10, Feb 10, 2017  12:17 PM             9,030 Demo_data.xlsx\n",
      "03-29, Mar 29, 2017  07:08 PM    <DIR>          Desktop\n",
      "03-15, Mar 15, 2017  12:40 PM    <DIR>          Documents\n",
      "04-05, Apr 05, 2017  05:14 PM    <DIR>          Downloads\n",
      "01-13, Jan 13, 2017  12:58 AM             5,340 dr-chrono-coding-challeng.ipynb\n",
      "01-04, Jan 04, 2017  06:07 PM            58,938 dsd.csv\n",
      "03-01, Mar 01, 2017  01:15 PM           101,147 Dummy corrupted Image (2).png\n",
      "03-01, Mar 01, 2017  01:18 PM            10,916 Dummy corrupted Image.png\n",
      "02-02, Feb 02, 2017  09:13 PM            20,282 Excel-Sumproduct-If-Statement.xlsx\n",
      "10-13, Oct 13, 2016  07:29 AM    <DIR>          Favorites\n",
      "12-22, Dec 22, 2016  07:46 PM               483 foo.txt\n",
      "01-06, Jan 06, 2017  07:01 PM         6,132,294 geckodriver.exe\n",
      "03-22, Mar 22, 2017  07:15 PM            37,487 geckodriver.log\n",
      "03-01, Mar 01, 2017  03:08 PM             8,798 Geometries.ipynb\n",
      "01-05, Jan 05, 2017  11:47 AM             3,109 grader.py\n",
      "01-05, Jan 05, 2017  12:04 PM             3,361 grader.pyc\n",
      "01-05, Jan 05, 2017  12:50 PM            13,505 graph.ipynb\n",
      "03-01, Mar 01, 2017  06:22 PM            30,416 Interactive Data Visualization using Bokeh.ipynb\n",
      "01-03, Jan 03, 2017  10:56 PM           125,772 Learn Python-tutorialspoint.ipynb\n",
      "02-28, Feb 28, 2017  10:58 PM            25,023 lines.html\n",
      "11-23, Nov 23, 2016  08:01 PM    <DIR>          Links\n",
      "01-12, Jan 12, 2017  11:36 AM            35,113 Machine Learning - Random Forest.ipynb\n",
      "01-12, Jan 12, 2017  10:11 AM            12,033 Machine Learning- Titanic Practice Sessions 1.ipynb\n",
      "01-12, Jan 12, 2017  11:22 AM            10,518 Machine Learning- Titanic Practice Sessions 2.ipynb\n",
      "01-23, Jan 23, 2017  06:57 PM           914,428 Maskedoutput_wordcloud.png\n",
      "01-24, Jan 24, 2017  06:09 PM    <DIR>          MovieLens data\n",
      "01-24, Jan 24, 2017  07:05 PM         4,746,428 MovieLens data.rar\n",
      "03-15, Mar 15, 2017  12:40 PM    <DIR>          Music\n",
      "11-05, Nov 05, 2016  04:38 PM    <DIR>          My Online Documents\n",
      "03-01, Mar 01, 2017  07:43 PM           192,965 New_York_Unemployment.html\n",
      "01-06, Jan 06, 2017  04:57 PM             9,118 NLTP basics.ipynb\n",
      "04-10, Apr 10, 2017  12:50 PM             4,230 Notebook Widgets.ipynb\n",
      "03-01, Mar 01, 2017  07:50 PM           405,246 NYC Unemployment rate.ipynb\n",
      "01-04, Jan 04, 2017  04:24 PM            16,710 OLD_The Data Incubator- Graph homework.ipynb\n",
      "09-02, Sep 02, 2016  06:59 PM    <DIR>          OneDrive\n",
      "01-23, Jan 23, 2017  06:18 PM           628,081 output_wordcloud.png\n",
      "02-06, Feb 06, 2017  03:58 PM            55,898 Outstanding Amount.ipynb\n",
      "12-20, Dec 20, 2016  09:00 AM           545,085 Pandas_testPrograms.ipynb\n",
      "01-11, Jan 11, 2017  10:45 AM            13,900 phase 2-graph.ipynb\n",
      "01-07, Jan 07, 2017  02:14 PM            41,802 Phase Two-sample_names.ipynb\n",
      "04-01, Apr 01, 2017  04:54 PM    <DIR>          Pictures\n",
      "01-07, Jan 07, 2017  01:24 PM            19,769 Plotly.ipynb\n",
      "02-10, Feb 10, 2017  12:52 PM               355 Priten ReadMe.md\n",
      "01-07, Jan 07, 2017  08:40 PM             3,726 Priten-audible-coding-challenge.ipynb\n",
      "03-08, Mar 08, 2017  12:18 PM            21,638 Python Data Structures .ipynb\n",
      "01-23, Jan 23, 2017  11:10 PM           379,011 Python Wordcloud.ipynb\n",
      "01-03, Jan 03, 2017  12:13 PM    <DIR>          python-getting-started\n",
      "03-04, Mar 04, 2017  11:35 AM            15,210 Red Baloon.ipynb\n",
      "03-01, Mar 01, 2017  07:38 PM            91,313 Roughtwork on Bokeh.ipynb\n",
      "01-05, Jan 05, 2017  11:44 AM             9,465 sample grading.ipynb\n",
      "01-05, Jan 05, 2017  11:58 AM                23 sample.csv.nogit\n",
      "01-23, Jan 23, 2017  06:51 PM         2,037,862 Samsung-Galaxy-Note-7.jpg\n",
      "12-05, Dec 05, 2016  10:56 PM    <DIR>          Saved Games\n",
      "01-31, Jan 31, 2017  08:22 PM            47,471 Scatter Plots on Maps.ipynb\n",
      "03-01, Mar 01, 2017  06:47 PM            53,182 scatterplot.html\n",
      "01-04, Jan 04, 2017  04:17 PM           734,467 Scraping.ipynb\n",
      "10-17, Oct 17, 2016  06:31 PM    <DIR>          Searches\n",
      "03-22, Mar 22, 2017  07:15 PM             3,445 Selenium- Movie download.ipynb\n",
      "01-12, Jan 12, 2017  10:57 PM             5,182 Selenium- Top mobiles.ipynb\n",
      "01-12, Jan 12, 2017  10:58 PM             3,211 Selenium.ipynb\n",
      "01-05, Jan 05, 2017  11:58 AM             1,101 serializers.py\n",
      "01-05, Jan 05, 2017  12:04 PM             1,482 serializers.pyc\n",
      "03-10, Mar 10, 2017  12:07 PM             3,072 sqlalchemy_example.db\n",
      "01-06, Jan 06, 2017  02:18 PM    <DIR>          stanford-ner\n",
      "12-22, Dec 22, 2016  07:27 PM                45 testfile\n",
      "12-22, Dec 22, 2016  07:27 PM                45 testfile.txt\n",
      "12-22, Dec 22, 2016  07:40 PM                45 testfssile.txt\n",
      "04-11, Apr 11, 2017  11:13 AM            24,097 testing.ipynb\n",
      "03-10, Mar 10, 2017  12:50 PM            19,719 The Alchemist.ipynb\n",
      "02-01, Feb 01, 2017  09:10 PM    <DIR>          The Data Incubator\n",
      "01-05, Jan 05, 2017  05:01 PM           235,024 The Data Incubator- Graph homework_All pages.ipynb\n",
      "01-27, Jan 27, 2017  11:17 AM         8,204,374 The Data Incubator.rar\n",
      "04-10, Apr 10, 2017  04:52 PM            29,688 Tidy Data - Regex.ipynb\n",
      "04-10, Apr 10, 2017  02:00 PM           150,047 Tidy Data.ipynb\n",
      "01-12, Jan 12, 2017  11:18 AM           139,584 titanic_model1\n",
      "01-12, Jan 12, 2017  10:09 AM            26,396 titanic_model2\n",
      "01-10, Jan 10, 2017  06:43 PM            29,416 titanic_test.csv\n",
      "01-10, Jan 10, 2017  06:43 PM            68,797 titanic_train.csv\n",
      "10-06, Oct 06, 2016  06:13 PM    <DIR>          Tracing\n",
      "03-31, Mar 31, 2017  12:22 AM            26,886 tweet_activity_metrics.csv\n",
      "03-31, Mar 31, 2017  12:41 PM            69,799 Tweeter Analysis.ipynb\n",
      "01-05, Jan 05, 2017  11:58 AM             2,035 typecheck.py\n",
      "01-05, Jan 05, 2017  12:04 PM             2,897 typecheck.pyc\n",
      "11-16, Nov 16, 2016  09:05 PM    <DIR>          Udemy\n",
      "01-24, Jan 24, 2017  05:26 PM             1,075 Udemy - Shortcut.lnk\n",
      "01-04, Jan 04, 2017  06:26 PM            47,869 Untitled.ipynb\n",
      "01-05, Jan 05, 2017  04:03 PM                72 Untitled1.ipynb\n",
      "03-01, Mar 01, 2017  01:20 PM             2,547 Using Python to find corrupted images.ipynb\n",
      "02-10, Feb 10, 2017  12:43 PM             9,084 Using RegEx.ipynb\n",
      "03-09, Mar 09, 2017  11:06 AM    <DIR>          venvdir\n",
      "12-30, Dec 30, 2016  10:56 AM    <DIR>          Videos\n",
      "12-29, Dec 29, 2016  05:53 PM             1,299 weather.csv\n",
      "01-12, Jan 12, 2017  10:58 PM            11,278 Web Scraping- Top Mobiles 2017.ipynb\n",
      "01-12, Jan 12, 2017  12:30 PM            34,107 web-scraping-tutorial-python.ipynb\n",
      "03-23, Mar 23, 2017  03:46 PM            27,864 Word Frequency.ipynb\n",
      "01-23, Jan 23, 2017  05:48 PM           464,232 word.png\n",
      "01-23, Jan 23, 2017  06:05 PM           633,466 wordcloud.png\n",
      "01-23, Jan 23, 2017  04:45 PM            12,080 WordCloud_data.txt\n",
      "03-23, Mar 23, 2017  03:11 PM             1,032 WordCount.txt\n",
      "02-09, Feb 09, 2003  03:32 AM            47,684 WORDSOFLOVE.ttf\n",
      "             101 File(s)     29,912,058 bytes\n",
      "              42 Dir(s)  18,373,758,976 bytes free\n"
     ]
    }
   ],
   "source": [
    "%ls"
   ]
  },
  {
   "cell_type": "code",
   "execution_count": null,
   "metadata": {
    "collapsed": true
   },
   "outputs": [],
   "source": []
  }
 ],
 "metadata": {
  "kernelspec": {
   "display_name": "Python 3",
   "language": "python",
   "name": "python3"
  },
  "language_info": {
   "codemirror_mode": {
    "name": "ipython",
    "version": 3
   },
   "file_extension": ".py",
   "mimetype": "text/x-python",
   "name": "python",
   "nbconvert_exporter": "python",
   "pygments_lexer": "ipython3",
   "version": "3.5.2"
  }
 },
 "nbformat": 4,
 "nbformat_minor": 2
}
